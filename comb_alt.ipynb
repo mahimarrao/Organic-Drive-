{
 "cells": [
  {
   "cell_type": "code",
   "execution_count": 1,
   "id": "fdafa3de",
   "metadata": {},
   "outputs": [
    {
     "data": {
      "text/plain": [
       "{'maize': [[{1: ['radish', 'mustard', 'peas']}]],\n",
       " 'Pearl millet': [[{1: ['sesame', 'moth bean']}], [{1: ['mungbean']}]],\n",
       " 'potato': [[{2: ['bornyard millet', 'black gram', 'horse gram', 'amaranth']}],\n",
       "  [{1: ['kidney beans']}, {2: ['amaranth']}]],\n",
       " 'wheat': [[{1: ['mustard', 'peas', 'lentil']}, {2: ['barley']}]]}"
      ]
     },
     "execution_count": 1,
     "metadata": {},
     "output_type": "execute_result"
    }
   ],
   "source": [
    "# key = 1 belongs to vegetable and spices\n",
    "# key = 2 belongs to grains \n",
    "# and subsiquently sub classes in that \n",
    "\n",
    "comb={}\n",
    "comb[\"maize\"]=[[{1:[\"radish\",\"mustard\",\"peas\"]}]]\n",
    "comb[\"Pearl millet\"]=[[{1:[\"sesame\",\"moth bean\"]}]]\n",
    "comb[\"Pearl millet\"].append([{1:[\"mungbean\"]}])\n",
    "comb[\"potato\"]=[[{2:[\"bornyard millet\",\"black gram\",\"horse gram\",\"amaranth\"]}],[{1:[\"kidney beans\"]},{2:[\"amaranth\"]}]]\n",
    "comb[\"wheat\"]=[[{1:[\"mustard\",\"peas\",\"lentil\"]},{2:[\"barley\"]}]]\n",
    "comb"
   ]
  },
  {
   "cell_type": "code",
   "execution_count": 6,
   "id": "41142246",
   "metadata": {},
   "outputs": [
    {
     "data": {
      "text/plain": [
       "{'paddy': [['ragi', 'balck bean', 'sanwa millet', 'horsegram'],\n",
       "  ['ragi', 'foxtail millet', 'french bean', 'amaranth']]}"
      ]
     },
     "execution_count": 6,
     "metadata": {},
     "output_type": "execute_result"
    }
   ],
   "source": [
    "alt = {}\n",
    "alt[\"paddy\"]=[[\"ragi\",\"balck bean\",\"sanwa millet\",\"horsegram\"]]\n",
    "alt[\"paddy\"].append([\"ragi\",\"foxtail millet\",\"french bean\",\"amaranth\"])\n",
    "alt"
   ]
  },
  {
   "cell_type": "code",
   "execution_count": 2,
   "id": "a3be7fba",
   "metadata": {},
   "outputs": [],
   "source": [
    "import json5\n",
    "with open('comb.json', 'w') as f:\n",
    "    json5.dump(comb, f)\n"
   ]
  },
  {
   "cell_type": "code",
   "execution_count": 18,
   "id": "fd33df08",
   "metadata": {},
   "outputs": [
    {
     "name": "stdout",
     "output_type": "stream",
     "text": [
      "{'maize': [[{'1': ['radish', 'mustard', 'peas']}]], 'pearl millet': [[{'1': ['sesame', 'moth']}], [{'1': ['mungbean']}]], 'potato': [[{'2': ['bornyard millet', 'black gram', 'horse gram', 'amaranth']}], [{'1': ['kidney beans']}, {'2': ['amaranth']}]], 'wheat': [[{'1': ['mustard', 'peas', 'lentil']}, {'2': ['barley']}]]}\n"
     ]
    }
   ],
   "source": [
    "f = open('comb.json')\n",
    "c = json5.load(f)\n",
    "print(c)\n",
    "f.close()"
   ]
  },
  {
   "cell_type": "code",
   "execution_count": null,
   "id": "765445ba",
   "metadata": {},
   "outputs": [],
   "source": []
  }
 ],
 "metadata": {
  "kernelspec": {
   "display_name": "Python 3",
   "language": "python",
   "name": "python3"
  },
  "language_info": {
   "codemirror_mode": {
    "name": "ipython",
    "version": 3
   },
   "file_extension": ".py",
   "mimetype": "text/x-python",
   "name": "python",
   "nbconvert_exporter": "python",
   "pygments_lexer": "ipython3",
   "version": "3.7.10"
  }
 },
 "nbformat": 4,
 "nbformat_minor": 5
}
