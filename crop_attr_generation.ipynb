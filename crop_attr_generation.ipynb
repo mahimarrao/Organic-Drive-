{
 "cells": [
  {
   "cell_type": "code",
   "execution_count": 5,
   "id": "ca63243b",
   "metadata": {},
   "outputs": [],
   "source": [
    "import pandas as pd\n",
    "import numpy as np"
   ]
  },
  {
   "cell_type": "code",
   "execution_count": null,
   "id": "32da67c7",
   "metadata": {},
   "outputs": [],
   "source": [
    "'''\n",
    "spring runs from March 1 to May 31;\n",
    "summer runs from June 1 to August 31;\n",
    "fall (autumn) runs from September 1 to November 30; and\n",
    "winter runs from December 1 to February 28 (February 29 in a leap year).\n",
    "\n",
    "'''"
   ]
  },
  {
   "cell_type": "code",
   "execution_count": 16,
   "id": "e01022e7",
   "metadata": {},
   "outputs": [
    {
     "data": {
      "text/html": [
       "<div>\n",
       "<style scoped>\n",
       "    .dataframe tbody tr th:only-of-type {\n",
       "        vertical-align: middle;\n",
       "    }\n",
       "\n",
       "    .dataframe tbody tr th {\n",
       "        vertical-align: top;\n",
       "    }\n",
       "\n",
       "    .dataframe thead th {\n",
       "        text-align: right;\n",
       "    }\n",
       "</style>\n",
       "<table border=\"1\" class=\"dataframe\">\n",
       "  <thead>\n",
       "    <tr style=\"text-align: right;\">\n",
       "      <th></th>\n",
       "      <th>Attr</th>\n",
       "      <th>wheat</th>\n",
       "      <th>pearl millet</th>\n",
       "      <th>maize</th>\n",
       "    </tr>\n",
       "  </thead>\n",
       "  <tbody>\n",
       "    <tr>\n",
       "      <th>0</th>\n",
       "      <td>temp</td>\n",
       "      <td>[15, 20]</td>\n",
       "      <td>['25', '30']</td>\n",
       "      <td>['21', '25']</td>\n",
       "    </tr>\n",
       "    <tr>\n",
       "      <th>1</th>\n",
       "      <td>water</td>\n",
       "      <td>medium</td>\n",
       "      <td>small</td>\n",
       "      <td>medium</td>\n",
       "    </tr>\n",
       "    <tr>\n",
       "      <th>2</th>\n",
       "      <td>soil</td>\n",
       "      <td>['drained loamy', ' clayey ', 'black']</td>\n",
       "      <td>['sandy', ' shallow black']</td>\n",
       "      <td>['alluvial', 'drained red', 'mountainous']</td>\n",
       "    </tr>\n",
       "    <tr>\n",
       "      <th>3</th>\n",
       "      <td>season</td>\n",
       "      <td>fall</td>\n",
       "      <td>early spring</td>\n",
       "      <td>early summer</td>\n",
       "    </tr>\n",
       "    <tr>\n",
       "      <th>4</th>\n",
       "      <td>region</td>\n",
       "      <td>['Uttar Pradesh', 'Punjab ', 'Madhya Pradesh',...</td>\n",
       "      <td>['Uttar Pradesh', ' Maharashtra', ' Gujarat', ...</td>\n",
       "      <td>['Karnataka', ' Uttar Pradesh', ' Bihar', ' Ra...</td>\n",
       "    </tr>\n",
       "  </tbody>\n",
       "</table>\n",
       "</div>"
      ],
      "text/plain": [
       "     Attr                                              wheat  \\\n",
       "0    temp                                           [15, 20]   \n",
       "1   water                                             medium   \n",
       "2    soil             ['drained loamy', ' clayey ', 'black']   \n",
       "3  season                                               fall   \n",
       "4  region  ['Uttar Pradesh', 'Punjab ', 'Madhya Pradesh',...   \n",
       "\n",
       "                                        pearl millet  \\\n",
       "0                                       ['25', '30']   \n",
       "1                                              small   \n",
       "2                        ['sandy', ' shallow black']   \n",
       "3                                       early spring   \n",
       "4  ['Uttar Pradesh', ' Maharashtra', ' Gujarat', ...   \n",
       "\n",
       "                                               maize  \n",
       "0                                       ['21', '25']  \n",
       "1                                             medium  \n",
       "2         ['alluvial', 'drained red', 'mountainous']  \n",
       "3                                       early summer  \n",
       "4  ['Karnataka', ' Uttar Pradesh', ' Bihar', ' Ra...  "
      ]
     },
     "execution_count": 16,
     "metadata": {},
     "output_type": "execute_result"
    }
   ],
   "source": [
    "#data = {\"Attr\":[\"temp\",\"water\",\"soil\",\"season\",\"region\"],\"wheat\":[[15,20],\"medium\",[ \"drained loamy\",\" clayey \",\"black\" ],\"fall\",[\"Uttar Pradesh\",\"Punjab \", \"Madhya Pradesh\", \"Haryana\", \"Rajasthan\", \"Bihar\", \"Gujarat\", \"Maharashtra\", \"West Bengal\", \"Uttarakhand\"]]}\n",
    "\n",
    "data =pd.read_csv('crop_attr.csv')\n",
    "data"
   ]
  },
  {
   "cell_type": "code",
   "execution_count": 7,
   "id": "1237b276",
   "metadata": {},
   "outputs": [],
   "source": [
    "def addition(name):\n",
    "    d={}\n",
    "    d[0]=[input(\"enter the temperature range\") for i in range(2)]\n",
    "    d[1]=input(\"enter the water requirment in small medim or high amount\")\n",
    "    d[3]=input(\"enter the season sown\")\n",
    "    d[2]=[item for item in input(\"Enter the soil type : \").split(\",\")]\n",
    "    d[4]=[item for item in input(\"Enter the region : \").split(\",\")]\n",
    "    data[str(name)] = pd.Series(d)\n",
    "    print(data)"
   ]
  },
  {
   "cell_type": "code",
   "execution_count": 10,
   "id": "db16ad08",
   "metadata": {},
   "outputs": [
    {
     "name": "stdout",
     "output_type": "stream",
     "text": [
      "enter the temperature range21\n",
      "enter the temperature range25\n",
      "enter the water requirment in small medim or high amountmedium\n",
      "enter the season sownearly summer\n",
      "Enter the soil type : alluvial,drained red,mountainous\n",
      "Enter the region : Karnataka, Uttar Pradesh, Bihar, Rajasthan ,Andhra Pradesh \n",
      "     Attr                                              wheat  \\\n",
      "0    temp                                           [15, 20]   \n",
      "1   water                                             medium   \n",
      "2    soil                   [drained loamy,  clayey , black]   \n",
      "3  season                                               fall   \n",
      "4  region  [Uttar Pradesh, Punjab , Madhya Pradesh, Harya...   \n",
      "\n",
      "                                        pearl millet  \\\n",
      "0                                           [25, 30]   \n",
      "1                                              small   \n",
      "2                            [sandy,  shallow black]   \n",
      "3                                       early spring   \n",
      "4  [Uttar Pradesh,  Maharashtra,  Gujarat,  Haryana]   \n",
      "\n",
      "                                               maize  \n",
      "0                                           [21, 25]  \n",
      "1                                             medium  \n",
      "2               [alluvial, drained red, mountainous]  \n",
      "3                                       early summer  \n",
      "4  [Karnataka,  Uttar Pradesh,  Bihar,  Rajasthan...  \n"
     ]
    }
   ],
   "source": [
    "addition(\"maize\")"
   ]
  },
  {
   "cell_type": "code",
   "execution_count": 11,
   "id": "7d8edd18",
   "metadata": {},
   "outputs": [
    {
     "data": {
      "text/html": [
       "<div>\n",
       "<style scoped>\n",
       "    .dataframe tbody tr th:only-of-type {\n",
       "        vertical-align: middle;\n",
       "    }\n",
       "\n",
       "    .dataframe tbody tr th {\n",
       "        vertical-align: top;\n",
       "    }\n",
       "\n",
       "    .dataframe thead th {\n",
       "        text-align: right;\n",
       "    }\n",
       "</style>\n",
       "<table border=\"1\" class=\"dataframe\">\n",
       "  <thead>\n",
       "    <tr style=\"text-align: right;\">\n",
       "      <th></th>\n",
       "      <th>Attr</th>\n",
       "      <th>wheat</th>\n",
       "      <th>pearl millet</th>\n",
       "      <th>maize</th>\n",
       "    </tr>\n",
       "  </thead>\n",
       "  <tbody>\n",
       "    <tr>\n",
       "      <th>0</th>\n",
       "      <td>temp</td>\n",
       "      <td>[15, 20]</td>\n",
       "      <td>[25, 30]</td>\n",
       "      <td>[21, 25]</td>\n",
       "    </tr>\n",
       "    <tr>\n",
       "      <th>1</th>\n",
       "      <td>water</td>\n",
       "      <td>medium</td>\n",
       "      <td>small</td>\n",
       "      <td>medium</td>\n",
       "    </tr>\n",
       "    <tr>\n",
       "      <th>2</th>\n",
       "      <td>soil</td>\n",
       "      <td>[drained loamy,  clayey , black]</td>\n",
       "      <td>[sandy,  shallow black]</td>\n",
       "      <td>[alluvial, drained red, mountainous]</td>\n",
       "    </tr>\n",
       "    <tr>\n",
       "      <th>3</th>\n",
       "      <td>season</td>\n",
       "      <td>fall</td>\n",
       "      <td>early spring</td>\n",
       "      <td>early summer</td>\n",
       "    </tr>\n",
       "    <tr>\n",
       "      <th>4</th>\n",
       "      <td>region</td>\n",
       "      <td>[Uttar Pradesh, Punjab , Madhya Pradesh, Harya...</td>\n",
       "      <td>[Uttar Pradesh,  Maharashtra,  Gujarat,  Haryana]</td>\n",
       "      <td>[Karnataka,  Uttar Pradesh,  Bihar,  Rajasthan...</td>\n",
       "    </tr>\n",
       "  </tbody>\n",
       "</table>\n",
       "</div>"
      ],
      "text/plain": [
       "     Attr                                              wheat  \\\n",
       "0    temp                                           [15, 20]   \n",
       "1   water                                             medium   \n",
       "2    soil                   [drained loamy,  clayey , black]   \n",
       "3  season                                               fall   \n",
       "4  region  [Uttar Pradesh, Punjab , Madhya Pradesh, Harya...   \n",
       "\n",
       "                                        pearl millet  \\\n",
       "0                                           [25, 30]   \n",
       "1                                              small   \n",
       "2                            [sandy,  shallow black]   \n",
       "3                                       early spring   \n",
       "4  [Uttar Pradesh,  Maharashtra,  Gujarat,  Haryana]   \n",
       "\n",
       "                                               maize  \n",
       "0                                           [21, 25]  \n",
       "1                                             medium  \n",
       "2               [alluvial, drained red, mountainous]  \n",
       "3                                       early summer  \n",
       "4  [Karnataka,  Uttar Pradesh,  Bihar,  Rajasthan...  "
      ]
     },
     "execution_count": 11,
     "metadata": {},
     "output_type": "execute_result"
    }
   ],
   "source": [
    "data"
   ]
  },
  {
   "cell_type": "code",
   "execution_count": 14,
   "id": "b24bd921",
   "metadata": {},
   "outputs": [],
   "source": [
    "data.to_csv('crop_attr.csv', index=False)"
   ]
  },
  {
   "cell_type": "code",
   "execution_count": null,
   "id": "9bee7f7f",
   "metadata": {},
   "outputs": [],
   "source": []
  }
 ],
 "metadata": {
  "kernelspec": {
   "display_name": "Python 3",
   "language": "python",
   "name": "python3"
  },
  "language_info": {
   "codemirror_mode": {
    "name": "ipython",
    "version": 3
   },
   "file_extension": ".py",
   "mimetype": "text/x-python",
   "name": "python",
   "nbconvert_exporter": "python",
   "pygments_lexer": "ipython3",
   "version": "3.7.10"
  }
 },
 "nbformat": 4,
 "nbformat_minor": 5
}
